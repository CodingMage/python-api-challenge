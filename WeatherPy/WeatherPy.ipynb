{
 "cells": [
  {
   "cell_type": "markdown",
   "metadata": {},
   "source": [
    "# WeatherPy\n",
    "----\n",
    "\n",
    "#### Note\n",
    "* Instructions have been included for each segment. You do not have to follow them exactly, but they are included to help you think through the steps."
   ]
  },
  {
   "cell_type": "markdown",
   "metadata": {},
   "source": [
    "## Observation of results:\n",
    "    1. Upon using the current method for locating cities, more cities are found in northern hemisphere than southern hemisphere. The latitude coverage in northern hemisphere is up to 80°, however, only up to -60° range was found for southern hemisphere. This is due to less proportion of ocean coverage in northern hemisphere.\n",
    "    2. By fitting linear models on temperature vs. latitude, one could note that the models give moderate to good R-square value. It shows an increase of temperature with the decrease of latitudes.\n",
    "    3. By doing similar analysis as in 2, cloudiness, humidity and wind speed do not show a strong linear relationship with temperature."
   ]
  },
  {
   "cell_type": "code",
   "execution_count": null,
   "metadata": {
    "scrolled": true
   },
   "outputs": [],
   "source": [
    "# Dependencies and Setup\n",
    "import matplotlib.pyplot as plt\n",
    "import pandas as pd\n",
    "import numpy as np\n",
    "import requests\n",
    "import time\n",
    "from scipy.stats import linregress\n",
    "\n",
    "# Import API key\n",
    "from config import weather_api_key\n",
    "\n",
    "# Incorporated citipy to determine city based on latitude and longitude\n",
    "from citipy import citipy\n",
    "\n",
    "# Output File (CSV)\n",
    "output_data_file = \"output_data/cities.csv\"\n",
    "\n",
    "# Range of latitudes and longitudes\n",
    "lat_range = (-90, 90)\n",
    "lng_range = (-180, 180)"
   ]
  },
  {
   "cell_type": "markdown",
   "metadata": {},
   "source": [
    "## Generate Cities List"
   ]
  },
  {
   "cell_type": "code",
   "execution_count": null,
   "metadata": {},
   "outputs": [],
   "source": [
    "# List for holding lat_lngs and cities\n",
    "lat_lngs = []\n",
    "cities = []\n",
    "\n",
    "# Create a set of random lat and lng combinations\n",
    "lats = np.random.uniform(low=-90.000, high=90.000, size=1500)\n",
    "lngs = np.random.uniform(low=-180.000, high=180.000, size=1500)\n",
    "lat_lngs = zip(lats, lngs)\n",
    "\n",
    "# Identify nearest city for each lat, lng combination\n",
    "for lat_lng in lat_lngs:\n",
    "    city = citipy.nearest_city(lat_lng[0], lat_lng[1]).city_name\n",
    "    \n",
    "    # If the city is unique, then add it to a our cities list\n",
    "    if city not in cities:\n",
    "        cities.append(city)\n",
    "\n",
    "# Print the city count to confirm sufficient count\n",
    "len(cities)"
   ]
  },
  {
   "cell_type": "markdown",
   "metadata": {},
   "source": [
    "### Perform API Calls\n",
    "* Perform a weather check on each city using a series of successive API calls.\n",
    "* Include a print log of each city as it'sbeing processed (with the city number and city name).\n"
   ]
  },
  {
   "cell_type": "code",
   "execution_count": null,
   "metadata": {},
   "outputs": [],
   "source": [
    "temperature = []\n",
    "humidity = []\n",
    "cloudiness = []\n",
    "wind_speed = []\n",
    "longitudes = []\n",
    "latitudes = []\n",
    "city_list = []\n",
    "country = []\n",
    "count = 1\n",
    "for city in cities:\n",
    "    params = {\n",
    "        'appid': weather_api_key,\n",
    "        'q':city,\n",
    "        'units': 'imperial'\n",
    "    }\n",
    "    url = f'http://api.openweathermap.org/data/2.5/weather'\n",
    "    response = requests.get(url, params=params).json()\n",
    "\n",
    "    try:\n",
    "        temperature.append(response['main']['temp_max'])\n",
    "        humidity.append(response['main']['humidity'])\n",
    "        cloudiness.append(response['clouds']['all'])\n",
    "        wind_speed.append(response['wind']['speed'])\n",
    "        longitudes.append(response['coord']['lon'])\n",
    "        latitudes.append(response['coord']['lat'])        \n",
    "        print(f'Processing record {count}: {city}')\n",
    "        city_list.append(city)\n",
    "        country.append(response['sys']['country'])\n",
    "        count+=1\n",
    "        \n",
    "    except KeyError:\n",
    "        print(f'City:{city} is not found. Skipping... ')\n",
    "        \n",
    "print(f'Data retrival complete!')"
   ]
  },
  {
   "cell_type": "markdown",
   "metadata": {},
   "source": [
    "### Convert Raw Data to DataFrame\n",
    "* Export the city data into a .csv.\n",
    "* Display the DataFrame"
   ]
  },
  {
   "cell_type": "code",
   "execution_count": null,
   "metadata": {},
   "outputs": [],
   "source": [
    "weather_df = pd.DataFrame({\n",
    "    'City_Name': city_list,\n",
    "    'country':country,\n",
    "    'Latitude': latitudes,\n",
    "    'Longitude': longitudes,\n",
    "    'Temperature/F': temperature,\n",
    "    'Humidity/%': humidity,\n",
    "    'Cloudiness/%':cloudiness,\n",
    "    'Wind_Speed/mph':wind_speed\n",
    "})\n",
    "weather_df.to_csv(output_data_file, index=False)\n",
    "weather_df.head()"
   ]
  },
  {
   "cell_type": "markdown",
   "metadata": {},
   "source": [
    "### Plotting the Data\n",
    "* Use proper labeling of the plots using plot titles (including date of analysis) and axes labels.\n",
    "* Save the plotted figures as .pngs."
   ]
  },
  {
   "cell_type": "code",
   "execution_count": null,
   "metadata": {},
   "outputs": [],
   "source": [
    "# Making scatter plots\n",
    "\n",
    "plt.figure(figsize=(15,15))\n",
    "\n",
    "plt.subplot(221)\n",
    "plt.scatter(weather_df.Latitude, weather_df['Temperature/F'], alpha=0.5)\n",
    "plt.title('Temperature (F) vs. Latitude', size=12)\n",
    "plt.xlabel('Latitude (°)', size=12)\n",
    "plt.ylabel('Temperature (°F)', size=12)\n",
    "\n",
    "plt.subplot(222)\n",
    "plt.scatter(weather_df.Latitude, weather_df['Humidity/%'], alpha=0.5)\n",
    "plt.title('Humidity (%) vs. Latitude', size=12)\n",
    "plt.xlabel('Latitude (°)', size=12)\n",
    "plt.ylabel('Humidity (%)', size=12)\n",
    "\n",
    "plt.subplot(223)\n",
    "plt.scatter(weather_df.Latitude, weather_df['Cloudiness/%'], alpha=0.5)\n",
    "plt.title('Cloudiness (%) vs. Latitude', size=12)\n",
    "plt.xlabel('Latitude (°)', size=12)\n",
    "plt.ylabel('Cloudiness (%)', size=12)\n",
    "\n",
    "plt.subplot(224)\n",
    "plt.scatter(weather_df.Latitude, weather_df['Wind_Speed/mph'], alpha=0.5)\n",
    "plt.title('Wind Speed (mph) vs. Latitude', size=12)\n",
    "plt.xlabel('Latitude (°)', size=12)\n",
    "plt.ylabel('Wind Speed (mph)', size=12)\n",
    "plt.savefig(\"output_data/global.png\")\n",
    "plt.show()"
   ]
  },
  {
   "cell_type": "markdown",
   "metadata": {},
   "source": [
    "## Linear Regression"
   ]
  },
  {
   "cell_type": "code",
   "execution_count": null,
   "metadata": {},
   "outputs": [],
   "source": [
    "# Create Northern and Southern Hemisphere DataFrames\n",
    "northern_df = weather_df.loc[weather_df.Latitude >= 0]\n",
    "southern_df = weather_df.loc[weather_df.Latitude < 0]"
   ]
  },
  {
   "cell_type": "code",
   "execution_count": null,
   "metadata": {},
   "outputs": [],
   "source": [
    "def linear_regression(x, y):\n",
    "    (slope, intercept, rvalue, pvalue, stderr) = linregress(x, y)\n",
    "    reg_value = slope*x + intercept\n",
    "    \n",
    "    return (slope, intercept, reg_value, rvalue)"
   ]
  },
  {
   "cell_type": "code",
   "execution_count": null,
   "metadata": {},
   "outputs": [],
   "source": [
    "df_list = [northern_df, southern_df]\n",
    "column_list = ['Temperature/F','Humidity/%', 'Cloudiness/%','Wind_Speed/mph']\n",
    "label_list = ['Northern Hemisphere', 'Southern Hemisphere']\n",
    "\n",
    "plt.figure(figsize=(12,10))\n",
    "for i in range(len(label_list)):\n",
    "    for j in range(len(column_list)):\n",
    "        \n",
    "# Performing linear regression.\n",
    "        result = linear_regression(df_list[i].Latitude, df_list[i][column_list[j]])        \n",
    "# Creating subplots        \n",
    "        plt.subplot(2,2,j+1)\n",
    "# Plotting real data vs fitted data:\n",
    "        plt.scatter(df_list[i].Latitude, df_list[i][column_list[j]], alpha=0.5, label=label_list[i])\n",
    "        plt.plot(df_list[i].Latitude, result[2], 'r--', alpha=0.5)\n",
    "        \n",
    "        plt.title(f'{column_list[j]} (F) vs. Latitude', size=12)\n",
    "        plt.xlabel('Latitude (°)', size=12)\n",
    "        plt.ylabel(f'{column_list[j]}', size=12)\n",
    "        \n",
    "# Display subplot#3 legend at a better location    \n",
    "        if j == 2:\n",
    "            plt.ylim(-5,120)\n",
    "        plt.legend(loc='best')\n",
    "        print(f'{label_list[i]} {column_list[j]}:R Square={result[3]**2}')\n",
    "plt.tight_layout()\n",
    "plt.savefig(\"output_data/Northern-Southern.png\")\n",
    "plt.show()"
   ]
  }
 ],
 "metadata": {
  "anaconda-cloud": {},
  "kernel_info": {
   "name": "python3"
  },
  "kernelspec": {
   "display_name": "Python 3",
   "language": "python",
   "name": "python3"
  },
  "language_info": {
   "codemirror_mode": {
    "name": "ipython",
    "version": 3
   },
   "file_extension": ".py",
   "mimetype": "text/x-python",
   "name": "python",
   "nbconvert_exporter": "python",
   "pygments_lexer": "ipython3",
   "version": "3.7.4"
  },
  "latex_envs": {
   "LaTeX_envs_menu_present": true,
   "autoclose": false,
   "autocomplete": true,
   "bibliofile": "biblio.bib",
   "cite_by": "apalike",
   "current_citInitial": 1,
   "eqLabelWithNumbers": true,
   "eqNumInitial": 1,
   "hotkeys": {
    "equation": "Ctrl-E",
    "itemize": "Ctrl-I"
   },
   "labels_anchors": false,
   "latex_user_defs": false,
   "report_style_numbering": false,
   "user_envs_cfg": false
  },
  "nteract": {
   "version": "0.12.3"
  }
 },
 "nbformat": 4,
 "nbformat_minor": 2
}
